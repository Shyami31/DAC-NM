{
  "metadata": {
    "language_info": {
      "codemirror_mode": {
        "name": "python",
        "version": 3
      },
      "file_extension": ".py",
      "mimetype": "text/x-python",
      "name": "python",
      "nbconvert_exporter": "python",
      "pygments_lexer": "ipython3",
      "version": "3.8"
    },
    "kernelspec": {
      "name": "python",
      "display_name": "Python (Pyodide)",
      "language": "python"
    }
  },
  "nbformat_minor": 4,
  "nbformat": 4,
  "cells": [
    {
      "cell_type": "code",
      "source": "import pandas as pd\n# Load data\ndata = pd.read_csv(\"survey.csv\")\nprint(data.head())",
      "metadata": {
        "trusted": true
      },
      "execution_count": 4,
      "outputs": [
        {
          "name": "stdout",
          "text": "             Timestamp  Age  Gender         Country state self_employed  \\\n0  2014-08-27 11:29:31   37  Female   United States    IL           NaN   \n1  2014-08-27 11:29:37   44       M   United States    IN           NaN   \n2  2014-08-27 11:29:44   32    Male          Canada   NaN           NaN   \n3  2014-08-27 11:29:46   31    Male  United Kingdom   NaN           NaN   \n4  2014-08-27 11:30:22   31    Male   United States    TX           NaN   \n\n  family_history treatment work_interfere    no_employees  ...  \\\n0             No       Yes          Often            6-25  ...   \n1             No        No         Rarely  More than 1000  ...   \n2             No        No         Rarely            6-25  ...   \n3            Yes       Yes          Often          26-100  ...   \n4             No        No          Never         100-500  ...   \n\n                leave mental_health_consequence phys_health_consequence  \\\n0       Somewhat easy                        No                      No   \n1          Don't know                     Maybe                      No   \n2  Somewhat difficult                        No                      No   \n3  Somewhat difficult                       Yes                     Yes   \n4          Don't know                        No                      No   \n\n      coworkers supervisor mental_health_interview phys_health_interview  \\\n0  Some of them        Yes                      No                 Maybe   \n1            No         No                      No                    No   \n2           Yes        Yes                     Yes                   Yes   \n3  Some of them         No                   Maybe                 Maybe   \n4  Some of them        Yes                     Yes                   Yes   \n\n  mental_vs_physical obs_consequence comments  \n0                Yes              No      NaN  \n1         Don't know              No      NaN  \n2                 No              No      NaN  \n3                 No             Yes      NaN  \n4         Don't know              No      NaN  \n\n[5 rows x 27 columns]\n",
          "output_type": "stream"
        }
      ]
    },
    {
      "cell_type": "code",
      "source": "# 1. Handling Missing Values\n# Check for missing values\nmissing_values = data.isnull().sum()\n# Handle missing values (e.g., impute with the mean or mode)\ndata[\"Age\"].fillna(data[\"Age\"].mean(), inplace=True)\ndata[\"Gender\"].fillna(\"Other\", inplace=True)",
      "metadata": {
        "trusted": true
      },
      "execution_count": 7,
      "outputs": []
    },
    {
      "cell_type": "code",
      "source": "# 2. Data Type Conversion\ndata[\"Timestamp\"] = pd.to_datetime(data[\"Timestamp\"])\ndata[\"Gender\"] = data[\"Gender\"].astype(\"category\")",
      "metadata": {
        "trusted": true
      },
      "execution_count": 8,
      "outputs": []
    },
    {
      "cell_type": "code",
      "source": "# 3. Remove Duplicates\ndata = data.drop_duplicates()",
      "metadata": {
        "trusted": true
      },
      "execution_count": 9,
      "outputs": []
    },
    {
      "cell_type": "code",
      "source": "# 4. Dealing with Outliers\n# Identify and deal with outliers in a specific numeric column (e.g., Age)\nQ1 = data[\"Age\"].quantile(0.25)\nQ3 = data[\"Age\"].quantile(0.75)\nIQR = Q3 - Q1\nlower_bound = Q1 - 1.5 * IQR\nupper_bound = Q3 + 1.5 * IQR\ndata = data[(data[\"Age\"] >= lower_bound) & (data[\"Age\"] <= upper_bound)]",
      "metadata": {
        "trusted": true
      },
      "execution_count": 10,
      "outputs": []
    },
    {
      "cell_type": "code",
      "source": "# 5. Rename Columns\ndata = data.rename(columns={\"self_employed\": \"SelfEmployed\"})",
      "metadata": {
        "trusted": true
      },
      "execution_count": 13,
      "outputs": []
    },
    {
      "cell_type": "code",
      "source": "# 6. Data Validation and Sanity Checks\n# Example: Remove rows with invalid ages (e.g., negative ages)\ndata = data[data[\"Age\"] >= 0]",
      "metadata": {
        "trusted": true
      },
      "execution_count": 14,
      "outputs": []
    },
    {
      "cell_type": "code",
      "source": "# 7. Data Encoding (One-Hot Encoding)\ndata = pd.get_dummies(data, columns=[\"Gender\"], prefix=\"Gender\")",
      "metadata": {
        "trusted": true
      },
      "execution_count": 15,
      "outputs": []
    },
    {
      "cell_type": "code",
      "source": "# 8. Data after cleaning\nprint(data.head())",
      "metadata": {
        "trusted": true
      },
      "execution_count": 16,
      "outputs": [
        {
          "name": "stdout",
          "text": "            Timestamp  Age         Country state SelfEmployed family_history  \\\n0 2014-08-27 11:29:31   37   United States    IL          NaN             No   \n1 2014-08-27 11:29:37   44   United States    IN          NaN             No   \n2 2014-08-27 11:29:44   32          Canada   NaN          NaN             No   \n3 2014-08-27 11:29:46   31  United Kingdom   NaN          NaN            Yes   \n4 2014-08-27 11:30:22   31   United States    TX          NaN             No   \n\n  treatment work_interfere    no_employees remote_work  ... Gender_male  \\\n0       Yes          Often            6-25          No  ...           0   \n1        No         Rarely  More than 1000          No  ...           0   \n2        No         Rarely            6-25          No  ...           0   \n3       Yes          Often          26-100          No  ...           0   \n4        No          Never         100-500         Yes  ...           0   \n\n  Gender_male leaning androgynous Gender_msle Gender_non-binary  \\\n0                               0           0                 0   \n1                               0           0                 0   \n2                               0           0                 0   \n3                               0           0                 0   \n4                               0           0                 0   \n\n  Gender_ostensibly male, unsure what that really means Gender_p Gender_queer  \\\n0                                                  0           0            0   \n1                                                  0           0            0   \n2                                                  0           0            0   \n3                                                  0           0            0   \n4                                                  0           0            0   \n\n  Gender_queer/she/they Gender_something kinda male? Gender_woman  \n0                     0                            0            0  \n1                     0                            0            0  \n2                     0                            0            0  \n3                     0                            0            0  \n4                     0                            0            0  \n\n[5 rows x 75 columns]\n",
          "output_type": "stream"
        }
      ]
    },
    {
      "cell_type": "code",
      "source": "# 9. Save the Cleaned Data\ndata.to_csv(\"cleaned_mental_health_survey.csv\", index=False)",
      "metadata": {
        "trusted": true
      },
      "execution_count": 17,
      "outputs": []
    },
    {
      "cell_type": "code",
      "source": "# Load data from the cleaned file\ndata = pd.read_csv(\"cleaned_mental_health_survey.csv\")\nprint(data.head())",
      "metadata": {
        "trusted": true
      },
      "execution_count": 18,
      "outputs": [
        {
          "name": "stdout",
          "text": "             Timestamp  Age         Country state SelfEmployed family_history  \\\n0  2014-08-27 11:29:31   37   United States    IL          NaN             No   \n1  2014-08-27 11:29:37   44   United States    IN          NaN             No   \n2  2014-08-27 11:29:44   32          Canada   NaN          NaN             No   \n3  2014-08-27 11:29:46   31  United Kingdom   NaN          NaN            Yes   \n4  2014-08-27 11:30:22   31   United States    TX          NaN             No   \n\n  treatment work_interfere    no_employees remote_work  ... Gender_male  \\\n0       Yes          Often            6-25          No  ...           0   \n1        No         Rarely  More than 1000          No  ...           0   \n2        No         Rarely            6-25          No  ...           0   \n3       Yes          Often          26-100          No  ...           0   \n4        No          Never         100-500         Yes  ...           0   \n\n  Gender_male leaning androgynous Gender_msle Gender_non-binary  \\\n0                               0           0                 0   \n1                               0           0                 0   \n2                               0           0                 0   \n3                               0           0                 0   \n4                               0           0                 0   \n\n  Gender_ostensibly male, unsure what that really means Gender_p Gender_queer  \\\n0                                                  0           0            0   \n1                                                  0           0            0   \n2                                                  0           0            0   \n3                                                  0           0            0   \n4                                                  0           0            0   \n\n  Gender_queer/she/they Gender_something kinda male? Gender_woman  \n0                     0                            0            0  \n1                     0                            0            0  \n2                     0                            0            0  \n3                     0                            0            0  \n4                     0                            0            0  \n\n[5 rows x 75 columns]\n",
          "output_type": "stream"
        }
      ]
    },
    {
      "cell_type": "code",
      "source": "",
      "metadata": {},
      "execution_count": null,
      "outputs": []
    }
  ]
}